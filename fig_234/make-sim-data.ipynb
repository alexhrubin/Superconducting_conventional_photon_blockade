{
 "cells": [
  {
   "cell_type": "code",
   "execution_count": 1,
   "id": "2fa16b7b-daa0-4ca2-93c8-49b5f2c88f35",
   "metadata": {
    "execution": {
     "iopub.execute_input": "2024-07-12T23:54:03.368509Z",
     "iopub.status.busy": "2024-07-12T23:54:03.368509Z",
     "iopub.status.idle": "2024-07-12T23:54:04.714581Z",
     "shell.execute_reply": "2024-07-12T23:54:04.714581Z",
     "shell.execute_reply.started": "2024-07-12T23:54:03.368509Z"
    },
    "tags": []
   },
   "outputs": [],
   "source": [
    "import pandas as pd\n",
    "import numpy as np\n",
    "import scipy\n",
    "import qutip as qt\n",
    "from tqdm.notebook import tqdm\n",
    "import math"
   ]
  },
  {
   "cell_type": "code",
   "execution_count": 2,
   "id": "cd01037b-5d8f-4d64-a6f2-b1da0eaff28a",
   "metadata": {
    "execution": {
     "iopub.execute_input": "2024-07-12T23:54:04.716582Z",
     "iopub.status.busy": "2024-07-12T23:54:04.716582Z",
     "iopub.status.idle": "2024-07-12T23:54:04.730593Z",
     "shell.execute_reply": "2024-07-12T23:54:04.730593Z",
     "shell.execute_reply.started": "2024-07-12T23:54:04.716582Z"
    }
   },
   "outputs": [],
   "source": [
    "import asyncio"
   ]
  },
  {
   "cell_type": "code",
   "execution_count": 3,
   "id": "488823fe-1d09-49da-b49a-acca3126a418",
   "metadata": {
    "execution": {
     "iopub.execute_input": "2024-07-12T23:54:04.732594Z",
     "iopub.status.busy": "2024-07-12T23:54:04.731593Z",
     "iopub.status.idle": "2024-07-12T23:54:04.746597Z",
     "shell.execute_reply": "2024-07-12T23:54:04.746597Z",
     "shell.execute_reply.started": "2024-07-12T23:54:04.732594Z"
    }
   },
   "outputs": [],
   "source": [
    "def background(f):\n",
    "    def wrapped(*args, **kwargs):\n",
    "        return asyncio.get_event_loop().run_in_executor(None, f, *args, **kwargs)\n",
    "\n",
    "    return wrapped"
   ]
  },
  {
   "cell_type": "markdown",
   "id": "1b766857-713e-4637-aae9-c48770c5cfb9",
   "metadata": {},
   "source": [
    "# N=0 Emitter"
   ]
  },
  {
   "cell_type": "markdown",
   "id": "03189808-4d3d-4af0-98b7-aac069a634bb",
   "metadata": {
    "tags": []
   },
   "source": [
    "## Simulation"
   ]
  },
  {
   "cell_type": "code",
   "execution_count": 4,
   "id": "58ced89b-243c-4133-8f7e-77ab483fd729",
   "metadata": {
    "execution": {
     "iopub.execute_input": "2024-07-12T23:54:04.748599Z",
     "iopub.status.busy": "2024-07-12T23:54:04.748599Z",
     "iopub.status.idle": "2024-07-12T23:54:04.762610Z",
     "shell.execute_reply": "2024-07-12T23:54:04.762610Z",
     "shell.execute_reply.started": "2024-07-12T23:54:04.748599Z"
    },
    "tags": []
   },
   "outputs": [],
   "source": [
    "lamb = 3.640\n",
    "fq = 5313.25\n",
    "fr = 5230.2\n",
    "\n",
    "N = 10\n",
    "Nq = 3\n",
    "a = qt.destroy(N)\n",
    "b = qt.destroy(Nq)\n",
    "kappa = 0.1\n",
    "gamma = kappa\n",
    "aq = 227\n",
    "g = 17\n",
    "r = 0\n",
    "def H_drive(lamb, dfreq, damp):\n",
    "    H = 0\n",
    "    H += (fr + lamb - dfreq)*qt.tensor([a.dag()*a, qt.qeye(Nq)])\n",
    "    H += (fq - lamb - dfreq)*qt.tensor([qt.qeye(N), b.dag()*b])\n",
    "    H += g*(qt.tensor([a.dag(), b]) + qt.tensor([a, b.dag()]))\n",
    "    H += -(aq/2)*qt.tensor([qt.qeye(N), b.dag()*b.dag()*b*b])\n",
    "    H += damp*qt.tensor([(a + a.dag()), qt.qeye(Nq)])\n",
    "    H += r*damp*qt.tensor([qt.qeye(N), b + b.dag()])\n",
    "    return H"
   ]
  },
  {
   "cell_type": "code",
   "execution_count": 5,
   "id": "e5a04ba9-5b9a-4805-b703-d293112c3c78",
   "metadata": {
    "execution": {
     "iopub.execute_input": "2024-07-12T23:54:04.764614Z",
     "iopub.status.busy": "2024-07-12T23:54:04.763611Z",
     "iopub.status.idle": "2024-07-12T23:54:04.778614Z",
     "shell.execute_reply": "2024-07-12T23:54:04.778614Z",
     "shell.execute_reply.started": "2024-07-12T23:54:04.764614Z"
    },
    "tags": []
   },
   "outputs": [
    {
     "data": {
      "text/plain": [
       "5.487472969053443"
      ]
     },
     "execution_count": 5,
     "metadata": {},
     "output_type": "execute_result"
    }
   ],
   "source": [
    "g**2 /((fq-fr)*(1-(fq-fr)/aq))"
   ]
  },
  {
   "cell_type": "code",
   "execution_count": 6,
   "id": "eeea73a8-0998-4218-850d-c71d5f67f82e",
   "metadata": {
    "execution": {
     "iopub.execute_input": "2024-07-12T23:54:04.937489Z",
     "iopub.status.busy": "2024-07-12T23:54:04.936488Z",
     "iopub.status.idle": "2024-07-12T23:54:04.965588Z",
     "shell.execute_reply": "2024-07-12T23:54:04.965588Z",
     "shell.execute_reply.started": "2024-07-12T23:54:04.937489Z"
    },
    "tags": []
   },
   "outputs": [
    {
     "data": {
      "text/plain": [
       "(np.float64(-0.0006309500076895347), np.float64(0.0006309500076895347))"
      ]
     },
     "execution_count": 6,
     "metadata": {},
     "output_type": "execute_result"
    }
   ],
   "source": [
    "H0 = H_drive(lamb, 0, 0)\n",
    "H0.eigenstates()\n",
    "(H0.eigenstates()[0][2] - H0.eigenstates()[0][0])-fq, (H0.eigenstates()[0][1] - H0.eigenstates()[0][0])-fr"
   ]
  },
  {
   "cell_type": "code",
   "execution_count": 7,
   "id": "21bfd305-70e6-42aa-91d5-5f959fbdfe8d",
   "metadata": {
    "execution": {
     "iopub.execute_input": "2024-07-12T23:54:05.152488Z",
     "iopub.status.busy": "2024-07-12T23:54:05.152488Z",
     "iopub.status.idle": "2024-07-12T23:54:05.167538Z",
     "shell.execute_reply": "2024-07-12T23:54:05.167538Z",
     "shell.execute_reply.started": "2024-07-12T23:54:05.152488Z"
    },
    "tags": []
   },
   "outputs": [],
   "source": [
    "powers = np.logspace(-3, 0.45, 201, endpoint=True)\n",
    "deltas = np.linspace(-5, 5, 201, endpoint=True)\n",
    "cops = [np.sqrt(kappa)*qt.tensor([a, qt.qeye(Nq)]), np.sqrt(gamma)*qt.tensor([qt.qeye(N), b])]"
   ]
  },
  {
   "cell_type": "code",
   "execution_count": 8,
   "id": "5b116807-b084-47e0-9b5b-536973cdea90",
   "metadata": {
    "execution": {
     "iopub.execute_input": "2024-07-12T23:54:05.329238Z",
     "iopub.status.busy": "2024-07-12T23:54:05.329238Z",
     "iopub.status.idle": "2024-07-12T23:54:05.339337Z",
     "shell.execute_reply": "2024-07-12T23:54:05.339337Z",
     "shell.execute_reply.started": "2024-07-12T23:54:05.329238Z"
    },
    "tags": []
   },
   "outputs": [],
   "source": [
    "Htest = H_drive(lamb, fr, powers[-1])"
   ]
  },
  {
   "cell_type": "code",
   "execution_count": 9,
   "id": "3e22ce2c-029b-4db5-889f-fea23c0afe56",
   "metadata": {
    "execution": {
     "iopub.execute_input": "2024-07-12T23:54:05.496976Z",
     "iopub.status.busy": "2024-07-12T23:54:05.496976Z",
     "iopub.status.idle": "2024-07-12T23:54:05.542220Z",
     "shell.execute_reply": "2024-07-12T23:54:05.542220Z",
     "shell.execute_reply.started": "2024-07-12T23:54:05.496976Z"
    },
    "tags": []
   },
   "outputs": [],
   "source": [
    "rho = qt.steadystate(Htest, cops, method='direct')\n",
    "rhoc = rho.ptrace(0)"
   ]
  },
  {
   "cell_type": "code",
   "execution_count": 10,
   "id": "94a781d6-e2d2-4c98-899d-f49ccc77de0c",
   "metadata": {
    "execution": {
     "iopub.execute_input": "2024-07-12T23:54:05.705142Z",
     "iopub.status.busy": "2024-07-12T23:54:05.705142Z",
     "iopub.status.idle": "2024-07-12T23:54:05.714150Z",
     "shell.execute_reply": "2024-07-12T23:54:05.714150Z",
     "shell.execute_reply.started": "2024-07-12T23:54:05.705142Z"
    }
   },
   "outputs": [
    {
     "data": {
      "text/plain": [
       "array([0.08543483+0.j, 0.16824463+0.j, 0.24363796+0.j, 0.22836527+0.j,\n",
       "       0.14946434+0.j, 0.07496684+0.j, 0.03172391+0.j, 0.01248915+0.j,\n",
       "       0.00452529+0.j, 0.00114777+0.j])"
      ]
     },
     "execution_count": 10,
     "metadata": {},
     "output_type": "execute_result"
    }
   ],
   "source": [
    "np.diag(rhoc.full())"
   ]
  },
  {
   "cell_type": "markdown",
   "id": "4b9714cd-eec7-45b9-aaf9-a6152f969142",
   "metadata": {
    "execution": {
     "iopub.execute_input": "2024-06-19T17:54:35.344568Z",
     "iopub.status.busy": "2024-06-19T17:54:35.343890Z",
     "iopub.status.idle": "2024-06-19T17:54:35.358276Z",
     "shell.execute_reply": "2024-06-19T17:54:35.358276Z",
     "shell.execute_reply.started": "2024-06-19T17:54:35.344568Z"
    },
    "tags": []
   },
   "source": [
    "## Power Dependence"
   ]
  },
  {
   "cell_type": "code",
   "execution_count": 11,
   "id": "5aaeb658-6138-42a0-b0b1-fecf75ca9f4d",
   "metadata": {
    "execution": {
     "iopub.execute_input": "2024-07-12T23:54:07.064483Z",
     "iopub.status.busy": "2024-07-12T23:54:07.064483Z",
     "iopub.status.idle": "2024-07-12T23:54:07.076494Z",
     "shell.execute_reply": "2024-07-12T23:54:07.076494Z",
     "shell.execute_reply.started": "2024-07-12T23:54:07.064483Z"
    },
    "tags": []
   },
   "outputs": [],
   "source": [
    "data = np.zeros([len(powers), N])"
   ]
  },
  {
   "cell_type": "code",
   "execution_count": 12,
   "id": "8405e2ac-960f-4da5-98be-e312b557848a",
   "metadata": {
    "execution": {
     "iopub.execute_input": "2024-07-12T23:54:07.324966Z",
     "iopub.status.busy": "2024-07-12T23:54:07.324966Z",
     "iopub.status.idle": "2024-07-12T23:54:07.341148Z",
     "shell.execute_reply": "2024-07-12T23:54:07.341148Z",
     "shell.execute_reply.started": "2024-07-12T23:54:07.324966Z"
    }
   },
   "outputs": [],
   "source": [
    "@background\n",
    "def find_ss(power):\n",
    "    H = H_drive(lamb, fr, power)\n",
    "    rho = qt.steadystate(H, cops)\n",
    "    rho = rho.ptrace(0)\n",
    "    x = np.abs(np.diag(rho.full()))\n",
    "    return x"
   ]
  },
  {
   "cell_type": "code",
   "execution_count": null,
   "id": "c3fda903-2999-40cc-9a52-66587120bdc3",
   "metadata": {
    "execution": {
     "execution_failed": "2024-07-12T23:54:12.742Z",
     "iopub.execute_input": "2024-07-12T23:54:07.368232Z",
     "iopub.status.busy": "2024-07-12T23:54:07.368232Z"
    }
   },
   "outputs": [],
   "source": [
    "import nest_asyncio\n",
    "nest_asyncio.apply()                                                       \n",
    "loop = asyncio.get_event_loop()                                              \n",
    "looper = asyncio.gather(*[find_ss(p) for p in powers])              \n",
    "data = loop.run_until_complete(looper)                                  "
   ]
  },
  {
   "cell_type": "code",
   "execution_count": null,
   "id": "1288b325-e7c2-4638-99ea-0e0a21d9e762",
   "metadata": {
    "execution": {
     "execution_failed": "2024-07-12T23:54:12.742Z"
    }
   },
   "outputs": [],
   "source": [
    "data = np.array(data)"
   ]
  },
  {
   "cell_type": "code",
   "execution_count": null,
   "id": "cdb4cb39-6909-49e6-8042-4908eff7cd3d",
   "metadata": {
    "execution": {
     "execution_failed": "2024-07-12T23:54:12.742Z"
    },
    "tags": []
   },
   "outputs": [],
   "source": [
    "alphas = np.zeros(len(powers))\n",
    "for i in range(len(powers)):\n",
    "    alphas[i] = np.sum(data[i, :]*np.arange(N))"
   ]
  },
  {
   "cell_type": "code",
   "execution_count": null,
   "id": "21975da3-ce01-4590-815f-5911a8b56d14",
   "metadata": {
    "execution": {
     "execution_failed": "2024-07-12T23:54:12.742Z"
    }
   },
   "outputs": [],
   "source": [
    "data[:,0]"
   ]
  },
  {
   "cell_type": "code",
   "execution_count": null,
   "id": "03d11f3e-318e-404a-9be8-15783f847750",
   "metadata": {
    "execution": {
     "execution_failed": "2024-07-12T23:54:12.742Z"
    }
   },
   "outputs": [],
   "source": [
    "data.shape"
   ]
  },
  {
   "cell_type": "code",
   "execution_count": null,
   "id": "c7f550bd-9261-4ea7-9afb-b667ee590690",
   "metadata": {
    "execution": {
     "execution_failed": "2024-07-12T23:54:12.742Z"
    }
   },
   "outputs": [],
   "source": [
    "ncol = []\n",
    "pcol = []\n",
    "dcol = []\n",
    "for i in range(data.shape[0]):\n",
    "    for j in range(data.shape[1]):\n",
    "        ncol.append(j)\n",
    "        pcol.append(powers[i])\n",
    "        dcol.append(data[i,j])"
   ]
  },
  {
   "cell_type": "code",
   "execution_count": null,
   "id": "56b407eb-a6ef-4cf9-a59a-25b02e9da2e8",
   "metadata": {
    "execution": {
     "execution_failed": "2024-07-12T23:54:12.742Z"
    }
   },
   "outputs": [],
   "source": [
    "df_dict = {\n",
    "    'n': ncol,\n",
    "    'power': pcol,\n",
    "    'data': dcol\n",
    "}\n",
    "df = pd.DataFrame(df_dict)\n",
    "# df.to_csv('N0-blockade-sim.csv')"
   ]
  },
  {
   "cell_type": "markdown",
   "id": "79b641c5-ff80-4e82-a90c-5d863d0f58ee",
   "metadata": {},
   "source": [
    "# N=1 Emitter"
   ]
  },
  {
   "cell_type": "markdown",
   "id": "200318e8-6a6a-4684-8ca1-b4a16565b1fb",
   "metadata": {
    "tags": []
   },
   "source": [
    "## Simulation"
   ]
  },
  {
   "cell_type": "code",
   "execution_count": 20,
   "id": "d677ecc4-5082-489b-874a-764d5e0b1224",
   "metadata": {
    "execution": {
     "iopub.execute_input": "2024-07-12T23:53:07.841862Z",
     "iopub.status.busy": "2024-07-12T23:53:07.840851Z",
     "iopub.status.idle": "2024-07-12T23:53:07.854874Z",
     "shell.execute_reply": "2024-07-12T23:53:07.854874Z",
     "shell.execute_reply.started": "2024-07-12T23:53:07.841862Z"
    },
    "tags": []
   },
   "outputs": [],
   "source": [
    "lamb = 2.50\n",
    "fq = 5348.5\n",
    "fr = 5230.2\n",
    "\n",
    "N = 7\n",
    "Nq = 3\n",
    "Nb = 2\n",
    "a = qt.destroy(N)\n",
    "b = qt.destroy(Nq)\n",
    "c = qt.destroy(Nb)\n",
    "kappa = 0.1\n",
    "gamma = kappa\n",
    "gammab = gamma\n",
    "aq = 227\n",
    "g = 17\n",
    "gb = 14\n",
    "r = 0\n",
    "def H_drive(lamb, dfreq, damp):\n",
    "    H = 0\n",
    "    H += (fr + lamb - dfreq)*qt.tensor([a.dag()*a, qt.qeye(Nq), qt.qeye(Nb)])\n",
    "    H += (fq - lamb - dfreq)*qt.tensor([qt.qeye(N), b.dag()*b, qt.qeye(Nb)])\n",
    "    H += (fr - dfreq)*qt.tensor([qt.qeye(N), qt.qeye(Nq), c.dag()*c])\n",
    "    H += g*(qt.tensor([a.dag(), b, qt.qeye(Nb)]) + qt.tensor([a, b.dag(), qt.qeye(Nb)]))\n",
    "    H += gb*(qt.tensor([a.dag(), qt.qeye(Nq), c]) + qt.tensor([a, qt.qeye(Nq), c.dag()]))\n",
    "    H += -(aq/2)*qt.tensor([qt.qeye(N), b.dag()*b.dag()*b*b, qt.qeye(Nb)])\n",
    "    H += damp*qt.tensor([(a + a.dag()), qt.qeye(Nq), qt.qeye(Nb)])\n",
    "    return H"
   ]
  },
  {
   "cell_type": "code",
   "execution_count": 21,
   "id": "15d470b6-4b40-47a7-9fb3-42b8ceef8aef",
   "metadata": {
    "execution": {
     "iopub.execute_input": "2024-07-12T23:53:11.698680Z",
     "iopub.status.busy": "2024-07-12T23:53:11.697573Z",
     "iopub.status.idle": "2024-07-12T23:53:11.708776Z",
     "shell.execute_reply": "2024-07-12T23:53:11.707687Z",
     "shell.execute_reply.started": "2024-07-12T23:53:11.698680Z"
    },
    "tags": []
   },
   "outputs": [],
   "source": [
    "H0 = H_drive(lamb, 0, 0)"
   ]
  },
  {
   "cell_type": "code",
   "execution_count": 22,
   "id": "84d69102-86d5-442a-bb35-a93efbb423a2",
   "metadata": {
    "execution": {
     "iopub.execute_input": "2024-07-12T23:53:12.377576Z",
     "iopub.status.busy": "2024-07-12T23:53:12.376575Z",
     "iopub.status.idle": "2024-07-12T23:53:12.408683Z",
     "shell.execute_reply": "2024-07-12T23:53:12.408683Z",
     "shell.execute_reply.started": "2024-07-12T23:53:12.377576Z"
    },
    "tags": []
   },
   "outputs": [
    {
     "data": {
      "text/plain": [
       "(np.float64(0.031205696020151663),\n",
       " np.float64(13.833860528388868),\n",
       " np.float64(-13.86506622440811))"
      ]
     },
     "execution_count": 22,
     "metadata": {},
     "output_type": "execute_result"
    }
   ],
   "source": [
    "(H0.eigenstates()[0][3] - H0.eigenstates()[0][0])-fq, (H0.eigenstates()[0][2] - H0.eigenstates()[0][0])-fr, (H0.eigenstates()[0][1] - H0.eigenstates()[0][0])-fr"
   ]
  },
  {
   "cell_type": "code",
   "execution_count": 23,
   "id": "e02b6adf-3165-4828-86dd-e7810e68373b",
   "metadata": {
    "execution": {
     "iopub.execute_input": "2024-07-12T23:53:12.824581Z",
     "iopub.status.busy": "2024-07-12T23:53:12.824581Z",
     "iopub.status.idle": "2024-07-12T23:53:12.831686Z",
     "shell.execute_reply": "2024-07-12T23:53:12.831686Z",
     "shell.execute_reply.started": "2024-07-12T23:53:12.824581Z"
    },
    "tags": []
   },
   "outputs": [],
   "source": [
    "powers = np.logspace(-3, 0.8, 51, endpoint=True)\n",
    "deltas = np.linspace(-5, 5, 201, endpoint=True)\n",
    "cops = [np.sqrt(kappa)*qt.tensor([a, qt.qeye(Nq), qt.qeye(Nb)]), np.sqrt(gamma)*qt.tensor([qt.qeye(N), b, qt.qeye(Nb)]), np.sqrt(gammab)*qt.tensor([qt.qeye(N), qt.qeye(Nq), c])]"
   ]
  },
  {
   "cell_type": "code",
   "execution_count": 24,
   "id": "aade9b51-cf8d-4f22-8c2c-d723470409f3",
   "metadata": {
    "execution": {
     "iopub.execute_input": "2024-07-12T23:53:13.065688Z",
     "iopub.status.busy": "2024-07-12T23:53:13.064687Z",
     "iopub.status.idle": "2024-07-12T23:53:13.080788Z",
     "shell.execute_reply": "2024-07-12T23:53:13.080788Z",
     "shell.execute_reply.started": "2024-07-12T23:53:13.065688Z"
    },
    "tags": []
   },
   "outputs": [
    {
     "data": {
      "text/plain": [
       "np.float64(5216.334933775592)"
      ]
     },
     "execution_count": 24,
     "metadata": {},
     "output_type": "execute_result"
    }
   ],
   "source": [
    "fd = H0.eigenstates()[0][1] - H0.eigenstates()[0][0]\n",
    "Htest = H_drive(lamb, fd, powers[-1])\n",
    "fd"
   ]
  },
  {
   "cell_type": "code",
   "execution_count": 25,
   "id": "0f6c96d8-8cb7-434b-9141-0f94be26aeb2",
   "metadata": {
    "execution": {
     "iopub.execute_input": "2024-07-12T23:53:13.672517Z",
     "iopub.status.busy": "2024-07-12T23:53:13.672517Z",
     "iopub.status.idle": "2024-07-12T23:53:14.059903Z",
     "shell.execute_reply": "2024-07-12T23:53:14.059903Z",
     "shell.execute_reply.started": "2024-07-12T23:53:13.672517Z"
    },
    "tags": []
   },
   "outputs": [],
   "source": [
    "rho = qt.steadystate(Htest, cops, method='direct')\n",
    "rhoc = rho.ptrace(0)"
   ]
  },
  {
   "cell_type": "markdown",
   "id": "7aa5bc61-f5e6-477d-8956-1f52e30f9086",
   "metadata": {
    "execution": {
     "iopub.execute_input": "2024-06-19T17:54:35.344568Z",
     "iopub.status.busy": "2024-06-19T17:54:35.343890Z",
     "iopub.status.idle": "2024-06-19T17:54:35.358276Z",
     "shell.execute_reply": "2024-06-19T17:54:35.358276Z",
     "shell.execute_reply.started": "2024-06-19T17:54:35.344568Z"
    },
    "tags": []
   },
   "source": [
    "## Power Dependence"
   ]
  },
  {
   "cell_type": "code",
   "execution_count": 26,
   "id": "4f14caea-86bb-447d-9d19-4bdcb8005ba2",
   "metadata": {
    "execution": {
     "iopub.execute_input": "2024-07-12T23:53:16.217192Z",
     "iopub.status.busy": "2024-07-12T23:53:16.217192Z",
     "iopub.status.idle": "2024-07-12T23:53:16.230203Z",
     "shell.execute_reply": "2024-07-12T23:53:16.230203Z",
     "shell.execute_reply.started": "2024-07-12T23:53:16.217192Z"
    },
    "tags": []
   },
   "outputs": [],
   "source": [
    "data = np.zeros([len(powers), N*Nq*Nb, N*Nq*Nb], dtype='complex')\n",
    "data = []"
   ]
  },
  {
   "cell_type": "code",
   "execution_count": 27,
   "id": "712cc2d9-62a2-4629-8630-e81fd5f5edf8",
   "metadata": {
    "execution": {
     "iopub.execute_input": "2024-07-12T23:53:18.185605Z",
     "iopub.status.busy": "2024-07-12T23:53:18.185605Z",
     "iopub.status.idle": "2024-07-12T23:53:18.201619Z",
     "shell.execute_reply": "2024-07-12T23:53:18.200618Z",
     "shell.execute_reply.started": "2024-07-12T23:53:18.185605Z"
    }
   },
   "outputs": [],
   "source": [
    "@background\n",
    "def find_ss(power):\n",
    "    H = H_drive(lamb, fd, power)\n",
    "    rho = qt.steadystate(H, cops)\n",
    "    x = rho\n",
    "    return x"
   ]
  },
  {
   "cell_type": "code",
   "execution_count": null,
   "id": "f34a7516-db16-4632-81cb-a961aed9b862",
   "metadata": {
    "execution": {
     "execution_failed": "2024-07-12T23:53:48.717Z",
     "iopub.execute_input": "2024-07-12T23:53:19.088721Z",
     "iopub.status.busy": "2024-07-12T23:53:19.088721Z"
    }
   },
   "outputs": [],
   "source": [
    "import nest_asyncio\n",
    "nest_asyncio.apply()                                                       \n",
    "loop = asyncio.get_event_loop()                                              \n",
    "looper = asyncio.gather(*[find_ss(p) for p in powers])              \n",
    "data = loop.run_until_complete(looper)                                  "
   ]
  },
  {
   "cell_type": "code",
   "execution_count": 29,
   "id": "f7d42b12-9ca1-4a00-83d7-77d6fa4f7e6d",
   "metadata": {
    "execution": {
     "iopub.execute_input": "2024-07-12T23:40:00.177772Z",
     "iopub.status.busy": "2024-07-12T23:40:00.177772Z",
     "iopub.status.idle": "2024-07-12T23:40:00.185841Z",
     "shell.execute_reply": "2024-07-12T23:40:00.185841Z",
     "shell.execute_reply.started": "2024-07-12T23:40:00.177772Z"
    },
    "tags": []
   },
   "outputs": [],
   "source": [
    "psim = (1/np.sqrt(2))*(qt.tensor([qt.basis(N, 0), qt.basis(Nb, 1)]) - qt.tensor([qt.basis(N, 1), qt.basis(Nb, 0)]))\n",
    "psip = (1/np.sqrt(2))*(qt.tensor([qt.basis(N, 0), qt.basis(Nb, 1)]) + qt.tensor([qt.basis(N, 1), qt.basis(Nb, 0)]))\n",
    "vacs = qt.tensor([qt.basis(N, 0), qt.basis(Nb, 0)])"
   ]
  },
  {
   "cell_type": "code",
   "execution_count": 30,
   "id": "81b997a8-ae66-490e-8b38-5a2a43ea840f",
   "metadata": {
    "execution": {
     "iopub.execute_input": "2024-07-12T23:40:00.954767Z",
     "iopub.status.busy": "2024-07-12T23:40:00.954767Z",
     "iopub.status.idle": "2024-07-12T23:40:00.998001Z",
     "shell.execute_reply": "2024-07-12T23:40:00.995994Z",
     "shell.execute_reply.started": "2024-07-12T23:40:00.954767Z"
    },
    "tags": []
   },
   "outputs": [
    {
     "data": {
      "application/vnd.jupyter.widget-view+json": {
       "model_id": "cafcd767e31047af959bc8e69a8cdc34",
       "version_major": 2,
       "version_minor": 0
      },
      "text/plain": [
       "  0%|          | 0/51 [00:00<?, ?it/s]"
      ]
     },
     "metadata": {},
     "output_type": "display_data"
    }
   ],
   "source": [
    "vac = np.zeros(len(powers))\n",
    "sp = np.zeros(len(powers))\n",
    "sm = np.zeros(len(powers))\n",
    "for i, p in enumerate(tqdm(powers)):\n",
    "    rho = data[i].ptrace([0,2])\n",
    "    vac[i] = np.abs(rho.overlap(vacs))\n",
    "    sp[i] = np.abs(rho.overlap(psip))\n",
    "    sm[i] = np.abs(rho.overlap(psim))"
   ]
  },
  {
   "cell_type": "code",
   "execution_count": null,
   "id": "50755fd3-5613-458d-95f2-4305ff31dd20",
   "metadata": {
    "execution": {
     "execution_failed": "2024-07-12T23:40:40.316Z",
     "iopub.execute_input": "2024-07-12T23:40:20.489778Z",
     "iopub.status.busy": "2024-07-12T23:40:20.489778Z"
    }
   },
   "outputs": [],
   "source": [
    "data.shape"
   ]
  },
  {
   "cell_type": "code",
   "execution_count": null,
   "id": "4ee32330-035a-4ea8-8d6d-497c8eb2f9bd",
   "metadata": {},
   "outputs": [],
   "source": []
  }
 ],
 "metadata": {
  "kernelspec": {
   "display_name": "Python 3 (ipykernel)",
   "language": "python",
   "name": "python3"
  },
  "language_info": {
   "codemirror_mode": {
    "name": "ipython",
    "version": 3
   },
   "file_extension": ".py",
   "mimetype": "text/x-python",
   "name": "python",
   "nbconvert_exporter": "python",
   "pygments_lexer": "ipython3",
   "version": "3.10.14"
  }
 },
 "nbformat": 4,
 "nbformat_minor": 5
}
