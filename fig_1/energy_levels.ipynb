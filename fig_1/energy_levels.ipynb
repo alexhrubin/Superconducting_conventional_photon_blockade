{
 "cells": [
  {
   "cell_type": "code",
   "execution_count": 49,
   "metadata": {},
   "outputs": [],
   "source": [
    "import matplotlib.pyplot as plt\n",
    "from matplotlib.patches import Rectangle, FancyArrowPatch\n",
    "import numpy as np\n",
    "from qutip import destroy, qeye, sigmaz, tensor"
   ]
  },
  {
   "cell_type": "markdown",
   "metadata": {},
   "source": [
    "# 1 emitter"
   ]
  },
  {
   "cell_type": "code",
   "execution_count": 160,
   "metadata": {},
   "outputs": [
    {
     "data": {
      "text/plain": [
       "array([ 0.        +0.j  ,  4.5       -0.05j,  5.5       -0.05j,\n",
       "        9.29289322-0.1j , 10.70710678-0.1j , 15.        -0.15j])"
      ]
     },
     "execution_count": 160,
     "metadata": {},
     "output_type": "execute_result"
    }
   ],
   "source": [
    "N = 3\n",
    "\n",
    "a = tensor(destroy(N), qeye(2))\n",
    "sigm = tensor(qeye(N), destroy(2))\n",
    "sigz = tensor(qeye(N), sigmaz())\n",
    "\n",
    "wc = 5\n",
    "wa = 5\n",
    "g = 0.5\n",
    "\n",
    "kappa = 0.05\n",
    "gamma = 0.05\n",
    "dephasing = 500e-6\n",
    "c_ops = [\n",
    "    np.sqrt(kappa) * a,\n",
    "    np.sqrt(gamma) * sigm,\n",
    "    # np.sqrt(dephasing) * sigz,\n",
    "]\n",
    "\n",
    "H = (\n",
    "    wc * a.dag() * a\n",
    "    + wa * sigm.dag() * sigm\n",
    "    + g * (a.dag() * sigm + a * sigm.dag())\n",
    ")\n",
    "\n",
    "H_eff = H - 1j * kappa * a.dag() * a - 1j * gamma * sigm.dag() * sigm\n",
    "\n",
    "H_eff.eigenenergies()"
   ]
  },
  {
   "cell_type": "code",
   "execution_count": 161,
   "metadata": {},
   "outputs": [
    {
     "data": {
      "image/png": "[encoded data removed]",
      "text/plain": [
       "<Figure size 640x480 with 1 Axes>"
      ]
     },
     "metadata": {},
     "output_type": "display_data"
    }
   ],
   "source": [
    "# N=1\n",
    "fig, ax = plt.subplots()\n",
    "\n",
    "for energy in H_eff.eigenenergies()[1:3]:\n",
    "    center = np.real(energy)\n",
    "    width = abs(np.imag(energy))\n",
    "    rect = Rectangle((0, center - width), 1, 2*width, color='blue', alpha=0.5)\n",
    "    ax.add_patch(rect)\n",
    "\n",
    "for energy in H_eff.eigenenergies()[3:5]:\n",
    "    center = np.real(energy)\n",
    "    width = np.imag(energy)\n",
    "    rect = Rectangle((0, center - width), 1, 2*width, color='red', alpha=0.5)\n",
    "    ax.add_patch(rect)\n",
    "\n",
    "\n",
    "polariton = np.real(H_eff.eigenenergies()[1])\n",
    "arrow = FancyArrowPatch((0.5, -2e-3), (0.5, polariton+3e-2),\n",
    "                                arrowstyle='simple', mutation_scale=80, color='black', lw=1)\n",
    "ax.add_patch(arrow)\n",
    "arrow = FancyArrowPatch((0.5, polariton-6e-2), (0.5, 2*polariton),\n",
    "                                arrowstyle='simple', mutation_scale=80, color='black', lw=1)\n",
    "ax.add_patch(arrow)\n",
    "\n",
    "# ax.axhline(0, lw=1)\n",
    "# ax.axhline(polariton, lw=1)\n",
    "# ax.axhline(2*polariton, lw=1)\n",
    "\n",
    "ax.set_ylim(0, 12.5)\n",
    "# ax.set_ylim(4,5)\n",
    "plt.show()"
   ]
  },
  {
   "cell_type": "markdown",
   "metadata": {},
   "source": [
    "# 2 emitters"
   ]
  },
  {
   "cell_type": "code",
   "execution_count": 164,
   "metadata": {},
   "outputs": [
    {
     "data": {
      "text/plain": [
       "array([ 0.        +0.j  ,  4.29289322-0.05j,  5.        -0.05j,\n",
       "        5.70710678-0.05j,  8.77525513-0.1j , 10.        -0.1j ,\n",
       "       10.        -0.1j , 11.22474487-0.1j , 14.        -0.15j,\n",
       "       15.        -0.15j, 16.        -0.15j, 20.        -0.2j ])"
      ]
     },
     "execution_count": 164,
     "metadata": {},
     "output_type": "execute_result"
    }
   ],
   "source": [
    "N = 3\n",
    "\n",
    "a = tensor(destroy(N), qeye(2), qeye(2))\n",
    "sigm1 = tensor(qeye(N), destroy(2), qeye(2))\n",
    "sigm2 = tensor(qeye(N), qeye(2), destroy(2))\n",
    "# sigz = tensor(qeye(N), sigmaz())\n",
    "\n",
    "wc = 5\n",
    "wa = 5\n",
    "g = 0.5\n",
    "\n",
    "kappa = 0.05\n",
    "gamma = 0.05\n",
    "# dephasing = 500e-6\n",
    "c_ops = [\n",
    "    np.sqrt(kappa) * a,\n",
    "    np.sqrt(gamma) * sigm1,\n",
    "    np.sqrt(gamma) * sigm2,\n",
    "    # np.sqrt(dephasing) * sigz,\n",
    "]\n",
    "\n",
    "H = (\n",
    "    wc * a.dag() * a\n",
    "    + wa * sigm1.dag() * sigm1\n",
    "    + wa * sigm2.dag() * sigm2\n",
    "    + g * (a.dag() * sigm1 + a * sigm1.dag())\n",
    "    + g * (a.dag() * sigm2 + a * sigm2.dag())\n",
    ")\n",
    "\n",
    "H_eff = H - 1j * kappa * a.dag() * a - 1j * gamma * sigm1.dag() * sigm1 - 1j * gamma * sigm2.dag() * sigm2\n",
    "\n",
    "H_eff.eigenenergies()"
   ]
  },
  {
   "cell_type": "code",
   "execution_count": 165,
   "metadata": {},
   "outputs": [
    {
     "name": "stdout",
     "output_type": "stream",
     "text": [
      "8.77525512860841\n",
      "9.999999999999984\n",
      "10.0\n",
      "11.224744871391591\n"
     ]
    },
    {
     "data": {
      "image/png": "[encoded data removed]",
      "text/plain": [
       "<Figure size 640x480 with 1 Axes>"
      ]
     },
     "metadata": {},
     "output_type": "display_data"
    }
   ],
   "source": [
    "# N=2\n",
    "fig, ax = plt.subplots()\n",
    "\n",
    "for energy in H_eff.eigenenergies()[1:4]:\n",
    "    center = np.real(energy)\n",
    "    width = abs(np.imag(energy))\n",
    "    rect = Rectangle((0, center - width), 1, 2*width, color='blue', alpha=0.5)\n",
    "    ax.add_patch(rect)\n",
    "\n",
    "for energy in H_eff.eigenenergies()[4:8]:\n",
    "    center = np.real(energy)\n",
    "    print(center)\n",
    "    width = np.imag(energy)\n",
    "    rect = Rectangle((0, center - width), 1, 2*width, color='red', alpha=0.5)\n",
    "    ax.add_patch(rect)\n",
    "\n",
    "\n",
    "polariton = np.real(H_eff.eigenenergies()[1])\n",
    "arrow = FancyArrowPatch((0.5, -2e-3), (0.5, polariton+3e-2),\n",
    "                                arrowstyle='simple', mutation_scale=80, color='black', lw=1)\n",
    "ax.add_patch(arrow)\n",
    "arrow = FancyArrowPatch((0.5, polariton-6e-2), (0.5, 2*polariton),\n",
    "                                arrowstyle='simple', mutation_scale=80, color='black', lw=1)\n",
    "ax.add_patch(arrow)\n",
    "\n",
    "# ax.axhline(0, lw=1)\n",
    "# ax.axhline(polariton, lw=1)\n",
    "# ax.axhline(2*polariton, lw=1)\n",
    "\n",
    "ax.set_ylim(0, 12.5)\n",
    "plt.show()"
   ]
  },
  {
   "cell_type": "markdown",
   "metadata": {},
   "source": [
    "# 3 emitters"
   ]
  },
  {
   "cell_type": "code",
   "execution_count": 166,
   "metadata": {},
   "outputs": [
    {
     "data": {
      "text/plain": [
       "array([ 0.        +0.j  ,  4.1339746 -0.05j,  5.        -0.05j,\n",
       "        5.        -0.05j,  5.8660254 -0.05j,  8.41886117-0.1j ,\n",
       "        9.5       -0.1j ,  9.5       -0.1j , 10.        -0.1j ,\n",
       "       10.5       -0.1j , 10.5       -0.1j , 11.58113883-0.1j ,\n",
       "       13.3416876 -0.15j, 14.29289322-0.15j, 14.29289322-0.15j,\n",
       "       15.        -0.15j, 15.70710678-0.15j, 15.70710678-0.15j,\n",
       "       16.6583124 -0.15j, 18.77525513-0.2j , 20.        -0.2j ,\n",
       "       20.        -0.2j , 21.22474487-0.2j , 25.        -0.25j])"
      ]
     },
     "execution_count": 166,
     "metadata": {},
     "output_type": "execute_result"
    }
   ],
   "source": [
    "N = 3\n",
    "\n",
    "a = tensor(destroy(N), qeye(2), qeye(2), qeye(2))\n",
    "sigm1 = tensor(qeye(N), destroy(2), qeye(2), qeye(2))\n",
    "sigm2 = tensor(qeye(N), qeye(2), destroy(2), qeye(2))\n",
    "sigm3 = tensor(qeye(N), qeye(2), qeye(2), destroy(2))\n",
    "# sigz = tensor(qeye(N), sigmaz())\n",
    "\n",
    "wc = 5\n",
    "wa = 5\n",
    "g = 0.5\n",
    "\n",
    "kappa = 0.05\n",
    "gamma = 0.05\n",
    "# dephasing = 500e-6\n",
    "c_ops = [\n",
    "    np.sqrt(kappa) * a,\n",
    "    np.sqrt(gamma) * sigm1,\n",
    "    np.sqrt(gamma) * sigm2,\n",
    "    np.sqrt(gamma) * sigm3,\n",
    "    # np.sqrt(dephasing) * sigz,\n",
    "]\n",
    "\n",
    "H = (\n",
    "    wc * a.dag() * a\n",
    "    + wa * sigm1.dag() * sigm1\n",
    "    + wa * sigm2.dag() * sigm2\n",
    "    + wa * sigm3.dag() * sigm3\n",
    "    + g * (a.dag() * sigm1 + a * sigm1.dag())\n",
    "    + g * (a.dag() * sigm2 + a * sigm2.dag())\n",
    "    + g * (a.dag() * sigm3 + a * sigm3.dag())\n",
    ")\n",
    "\n",
    "H_eff = H - 1j * kappa * a.dag() * a - 1j * gamma * sigm1.dag() * sigm1 - 1j * gamma * sigm2.dag() * sigm2 - 1j * gamma * sigm3.dag() * sigm3\n",
    "\n",
    "H_eff.eigenenergies()"
   ]
  },
  {
   "cell_type": "code",
   "execution_count": 167,
   "metadata": {},
   "outputs": [
    {
     "name": "stdout",
     "output_type": "stream",
     "text": [
      "8.418861169915816\n",
      "9.499999999999996\n",
      "9.500000000000012\n",
      "10.0\n",
      "10.499999999999996\n",
      "10.500000000000014\n",
      "11.581138830084187\n"
     ]
    },
    {
     "data": {
      "image/png": "[encoded data removed]",
      "text/plain": [
       "<Figure size 640x480 with 1 Axes>"
      ]
     },
     "metadata": {},
     "output_type": "display_data"
    }
   ],
   "source": [
    "# N=3\n",
    "fig, ax = plt.subplots()\n",
    "\n",
    "for energy in H_eff.eigenenergies()[1:5]:\n",
    "    center = np.real(energy)\n",
    "    width = abs(np.imag(energy))\n",
    "    rect = Rectangle((0, center - width), 1, 2*width, color='blue', alpha=0.5)\n",
    "    ax.add_patch(rect)\n",
    "\n",
    "for energy in H_eff.eigenenergies()[5:12]:\n",
    "    center = np.real(energy)\n",
    "    print(center)\n",
    "    width = np.imag(energy)\n",
    "    rect = Rectangle((0, center - width), 1, 2*width, color='red', alpha=0.5)\n",
    "    ax.add_patch(rect)\n",
    "\n",
    "\n",
    "polariton = np.real(H_eff.eigenenergies()[1])\n",
    "arrow = FancyArrowPatch((0.5, -2e-3), (0.5, polariton+3e-2),\n",
    "                                arrowstyle='simple', mutation_scale=80, color='black', lw=1)\n",
    "ax.add_patch(arrow)\n",
    "arrow = FancyArrowPatch((0.5, polariton-6e-2), (0.5, 2*polariton),\n",
    "                                arrowstyle='simple', mutation_scale=80, color='black', lw=1)\n",
    "ax.add_patch(arrow)\n",
    "\n",
    "# ax.axhline(0, lw=1)\n",
    "# ax.axhline(polariton, lw=1)\n",
    "# ax.axhline(2*polariton, lw=1)\n",
    "\n",
    "ax.set_ylim(0, 12.5)\n",
    "plt.show()"
   ]
  },
  {
   "cell_type": "code",
   "execution_count": null,
   "metadata": {},
   "outputs": [],
   "source": []
  }
 ],
 "metadata": {
  "kernelspec": {
   "display_name": ".venv",
   "language": "python",
   "name": "python3"
  },
  "language_info": {
   "codemirror_mode": {
    "name": "ipython",
    "version": 3
   },
   "file_extension": ".py",
   "mimetype": "text/x-python",
   "name": "python",
   "nbconvert_exporter": "python",
   "pygments_lexer": "ipython3",
   "version": "3.10.6"
  }
 },
 "nbformat": 4,
 "nbformat_minor": 2
}
